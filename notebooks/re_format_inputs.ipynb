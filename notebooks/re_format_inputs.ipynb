{
 "cells": [
  {
   "cell_type": "code",
   "execution_count": 1,
   "metadata": {},
   "outputs": [],
   "source": [
    "import re\n",
    "from io import open\n",
    "import pandas as pd\n",
    "from sklearn.model_selection import train_test_split"
   ]
  },
  {
   "cell_type": "code",
   "execution_count": 1,
   "metadata": {},
   "outputs": [],
   "source": [
    "RELATION_LABELS = ['Other', 'Message-Topic(e1,e2)', 'Message-Topic(e2,e1)',\n",
    "                   'Product-Producer(e1,e2)', 'Product-Producer(e2,e1)',\n",
    "                   'Instrument-Agency(e1,e2)', 'Instrument-Agency(e2,e1)',\n",
    "                   'Entity-Destination(e1,e2)', 'Entity-Destination(e2,e1)',\n",
    "                   'Cause-Effect(e1,e2)', 'Cause-Effect(e2,e1)',\n",
    "                   'Component-Whole(e1,e2)', 'Component-Whole(e2,e1)',\n",
    "                   'Entity-Origin(e1,e2)', 'Entity-Origin(e2,e1)',\n",
    "                   'Member-Collection(e1,e2)', 'Member-Collection(e2,e1)',\n",
    "                   'Content-Container(e1,e2)', 'Content-Container(e2,e1)']"
   ]
  },
  {
   "cell_type": "code",
   "execution_count": 2,
   "metadata": {},
   "outputs": [],
   "source": [
    "def format_semeval_inputs(input_file, labels=None):\n",
    "\n",
    "    with open(input_file) as raw_text:\n",
    "\n",
    "        data = []\n",
    "        lines = [line.strip() for line in raw_text]\n",
    "\n",
    "        if labels: #train text:\n",
    "\n",
    "            for idx in range(0, len(lines), 4):\n",
    "\n",
    "                id = lines[idx].split(\"\\t\")[0]\n",
    "                relation = labels.index(lines[idx + 1])\n",
    "                sentence = lines[idx].split(\"\\t\")[1][1:-1]\n",
    "\n",
    "                data.append([id, sentence, relation])\n",
    "            \n",
    "            return pd.DataFrame(data=data, columns=[\"id\", \"sentence\", \"relation\"])\n",
    "\n",
    "        else: #test text:\n",
    "            \n",
    "            for idx in range(0, len(lines)):\n",
    "\n",
    "                id = lines[idx].split(\"\\t\")[0]\n",
    "                sentence = lines[idx].split(\"\\t\")[1][1:-1]\n",
    "\n",
    "                data.append([id, sentence])\n",
    "\n",
    "            return pd.DataFrame(data=data, columns=[\"id\", \"sentence\"])"
   ]
  },
  {
   "cell_type": "code",
   "execution_count": 3,
   "metadata": {},
   "outputs": [],
   "source": [
    "def semeval_train_dev_split(input_file, train_file, dev_file, labels, test_size):\n",
    "\n",
    "    train_df, dev_df = train_test_split(format_semeval_inputs(input_file, labels), test_size=test_size)\n",
    "\n",
    "    train_df.to_csv(train_file, sep='\\t', index=False, header=False)\n",
    "    dev_df.to_csv(dev_file, sep='\\t', index=False, header=False)"
   ]
  },
  {
   "cell_type": "code",
   "execution_count": 6,
   "metadata": {},
   "outputs": [],
   "source": [
    "semeval_train_dev_split(input_file='./data/TRAIN_FILE.TXT', \n",
    "                        train_file='./data/train.tsv', \n",
    "                        dev_file='./data/dev.tsv', \n",
    "                        labels=RELATION_LABELS, \n",
    "                        test_size=0.25)"
   ]
  },
  {
   "cell_type": "code",
   "execution_count": null,
   "metadata": {},
   "outputs": [],
   "source": []
  }
 ],
 "metadata": {
  "language_info": {
   "codemirror_mode": {
    "name": "ipython",
    "version": 3
   },
   "file_extension": ".py",
   "mimetype": "text/x-python",
   "name": "python",
   "nbconvert_exporter": "python",
   "pygments_lexer": "ipython3",
   "version": "3.7.3-final"
  },
  "orig_nbformat": 2,
  "kernelspec": {
   "name": "python3",
   "display_name": "Python 3"
  }
 },
 "nbformat": 4,
 "nbformat_minor": 2
}